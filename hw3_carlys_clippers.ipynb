{
 "cells": [
  {
   "cell_type": "code",
   "execution_count": 1,
   "id": "ba6ef344",
   "metadata": {},
   "outputs": [],
   "source": [
    "#헤어스타일, 가격, 지난주 리스트 생성\n",
    "\n",
    "hairstyles = [\"bouffant\", \"pixie\", \"dreadlocks\", \"crew\", \"bowl\", \"bob\", \"mohawk\", \"flattop\"]\n",
    "prices = [30, 25, 40, 20, 20, 35, 50, 35]\n",
    "last_week = [2, 3, 5, 8, 4, 4, 6, 2]"
   ]
  },
  {
   "cell_type": "code",
   "execution_count": 4,
   "id": "191a305d",
   "metadata": {},
   "outputs": [
    {
     "name": "stdout",
     "output_type": "stream",
     "text": [
      "Average price is 31.875\n"
     ]
    }
   ],
   "source": [
    "#평균 가격\n",
    "\n",
    "total_price = 0\n",
    "for price in prices:\n",
    "    total_price += price\n",
    "\n",
    "average_price = total_price / len(prices)\n",
    "\n",
    "print(\"Average price is\", average_price)"
   ]
  },
  {
   "cell_type": "code",
   "execution_count": 5,
   "id": "0985e229",
   "metadata": {},
   "outputs": [
    {
     "name": "stdout",
     "output_type": "stream",
     "text": [
      "[25, 20, 35, 15, 15, 30, 45, 30]\n"
     ]
    }
   ],
   "source": [
    "#가격을 인하한 새 가격\n",
    "\n",
    "new_prices = [price - 5 for price in prices]\n",
    "\n",
    "print(new_prices)"
   ]
  },
  {
   "cell_type": "code",
   "execution_count": 6,
   "id": "3ad03ade",
   "metadata": {},
   "outputs": [
    {
     "name": "stdout",
     "output_type": "stream",
     "text": [
      "Average daily revenue is 155.0\n"
     ]
    }
   ],
   "source": [
    "#수익\n",
    "\n",
    "total_revenue = 0\n",
    "for i in range(len(hairstyles)):\n",
    "    total_revenue += prices[i] * last_week[i]\n",
    "\n",
    "average_daily_revenue = total_revenue / 7\n",
    "print(\"Average daily revenue is\", average_daily_revenue)"
   ]
  },
  {
   "cell_type": "code",
   "execution_count": 7,
   "id": "c2050b40",
   "metadata": {},
   "outputs": [
    {
     "name": "stdout",
     "output_type": "stream",
     "text": [
      "['bouffant', 'pixie', 'crew', 'bowl']\n"
     ]
    }
   ],
   "source": [
    "#30 이하의 가격의 헤어스타일 찾기\n",
    "\n",
    "cuts_under_30 = [hairstyles[i] for i in range(len(new_prices)) if new_prices[i] < 30]\n",
    "print(cuts_under_30)"
   ]
  }
 ],
 "metadata": {
  "kernelspec": {
   "display_name": "Python 3 (ipykernel)",
   "language": "python",
   "name": "python3"
  },
  "language_info": {
   "codemirror_mode": {
    "name": "ipython",
    "version": 3
   },
   "file_extension": ".py",
   "mimetype": "text/x-python",
   "name": "python",
   "nbconvert_exporter": "python",
   "pygments_lexer": "ipython3",
   "version": "3.9.7"
  }
 },
 "nbformat": 4,
 "nbformat_minor": 5
}
